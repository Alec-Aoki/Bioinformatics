{
  "nbformat": 4,
  "nbformat_minor": 0,
  "metadata": {
    "colab": {
      "provenance": []
    },
    "kernelspec": {
      "name": "python3",
      "display_name": "Python 3"
    },
    "language_info": {
      "name": "python"
    }
  },
  "cells": [
    {
      "cell_type": "markdown",
      "source": [
        "## Implementação do Algoritmo Needleman–Wunsch\n",
        "Fonte: https://www.youtube.com/watch?v=um8h3P216Fk"
      ],
      "metadata": {
        "id": "Y998QxYSsTua"
      }
    },
    {
      "cell_type": "code",
      "execution_count": null,
      "metadata": {
        "id": "nzJSqQF-9QDz"
      },
      "outputs": [],
      "source": [
        "# Importa bibliotecas\n",
        "import numpy as np"
      ]
    },
    {
      "cell_type": "markdown",
      "source": [
        "### Pede as sequências para o usuário"
      ],
      "metadata": {
        "id": "S1lOZBjRsdDw"
      }
    },
    {
      "cell_type": "code",
      "source": [
        "sequencia1 = input(\"Entre com a sequência 1: \")\n",
        "sequencia2 = input(\"Entre com a sequência 2: \")\n",
        "#sequencia1 = \"ATCGT\"\n",
        "#sequencia2 = \"ACGT\"\n",
        "#sequencia1 = \"TC\"\n",
        "#sequencia2 = \"ATC\""
      ],
      "metadata": {
        "id": "Ya5bMWFZ9-AD",
        "colab": {
          "base_uri": "https://localhost:8080/"
        },
        "outputId": "025b887f-751d-4e19-ed69-6cfaabecc8d4"
      },
      "execution_count": null,
      "outputs": [
        {
          "name": "stdout",
          "output_type": "stream",
          "text": [
            "Entre com a sequência 1: ATCGT\n",
            "Entre com a sequência 2: ACGT\n"
          ]
        }
      ]
    },
    {
      "cell_type": "markdown",
      "source": [
        "### Cria duas matrizes preenchidas com 0"
      ],
      "metadata": {
        "id": "fxsPTg0Vs10H"
      }
    },
    {
      "cell_type": "code",
      "source": [
        "matriz_principal = np.zeros((len(sequencia1)+1,len(sequencia2)+1))\n",
        "matriz_match_mismatch = np.zeros((len(sequencia1),len(sequencia2)))"
      ],
      "metadata": {
        "id": "1V6OwfDfhSPR"
      },
      "execution_count": null,
      "outputs": []
    },
    {
      "cell_type": "markdown",
      "source": [
        "### Pontuação para matchs, mismatches e gaps"
      ],
      "metadata": {
        "id": "cCg2dtV4s9XO"
      }
    },
    {
      "cell_type": "code",
      "source": [
        "match_score = 1\n",
        "mismatch_score = -1\n",
        "gap_score = -2"
      ],
      "metadata": {
        "id": "XLzCcBiwig9D"
      },
      "execution_count": null,
      "outputs": []
    },
    {
      "cell_type": "markdown",
      "source": [
        "### Preenche matriz_match_mismatch com as pontuações de match e mismatch"
      ],
      "metadata": {
        "id": "K_tLzBF9tBMJ"
      }
    },
    {
      "cell_type": "code",
      "source": [
        "for i in range(len(sequencia1)):\n",
        "  for j in range(len(sequencia2)):\n",
        "    if sequencia1[i] == sequencia2[j]:\n",
        "      matriz_match_mismatch[i][j] = match_score\n",
        "    else:\n",
        "      matriz_match_mismatch[i][j] = mismatch_score\n",
        "\n",
        "print(matriz_match_mismatch)"
      ],
      "metadata": {
        "colab": {
          "base_uri": "https://localhost:8080/"
        },
        "id": "mjxw7sRIi52L",
        "outputId": "7114484c-1ddd-4202-ae8d-fa56a962f7ba"
      },
      "execution_count": null,
      "outputs": [
        {
          "output_type": "stream",
          "name": "stdout",
          "text": [
            "[[ 1. -1. -1. -1.]\n",
            " [-1. -1. -1.  1.]\n",
            " [-1.  1. -1. -1.]\n",
            " [-1. -1.  1. -1.]\n",
            " [-1. -1. -1.  1.]]\n"
          ]
        }
      ]
    },
    {
      "cell_type": "markdown",
      "source": [
        "### Preencher a matriz principal com o algoritmo Needleman–Wunsch"
      ],
      "metadata": {
        "id": "0bP3RyW9tD40"
      }
    },
    {
      "cell_type": "markdown",
      "source": [
        "#### Passo 1: Inicialização"
      ],
      "metadata": {
        "id": "BSn3eEXrtHK_"
      }
    },
    {
      "cell_type": "code",
      "source": [
        "for i in range(len(sequencia1)+1):\n",
        "  matriz_principal[i][0] = i * gap_score\n",
        "for j in range(len(sequencia2)+1):\n",
        "  matriz_principal[0][j] = j * gap_score"
      ],
      "metadata": {
        "id": "KtWytRmqq7S1"
      },
      "execution_count": null,
      "outputs": []
    },
    {
      "cell_type": "code",
      "source": [
        "print(matriz_principal)"
      ],
      "metadata": {
        "colab": {
          "base_uri": "https://localhost:8080/"
        },
        "id": "MiFsmC8y92UQ",
        "outputId": "0e8aa460-6159-428b-a022-0bd222628525"
      },
      "execution_count": null,
      "outputs": [
        {
          "output_type": "stream",
          "name": "stdout",
          "text": [
            "[[  0.  -2.  -4.  -6.  -8.]\n",
            " [ -2.   0.   0.   0.   0.]\n",
            " [ -4.   0.   0.   0.   0.]\n",
            " [ -6.   0.   0.   0.   0.]\n",
            " [ -8.   0.   0.   0.   0.]\n",
            " [-10.   0.   0.   0.   0.]]\n"
          ]
        }
      ]
    },
    {
      "cell_type": "markdown",
      "source": [
        "#### Passo 2: Preenchimento da matriz"
      ],
      "metadata": {
        "id": "9EvHDN8ht5Zg"
      }
    },
    {
      "cell_type": "code",
      "source": [
        "for i in range(1,len(sequencia1)+1):\n",
        "  for j in range(1,len(sequencia2)+1):\n",
        "    matriz_principal[i][j] = max(matriz_principal[i-1][j-1]+matriz_match_mismatch[i-1][j-1],\n",
        "                                 matriz_principal[i-1][j]+gap_score,\n",
        "                                 matriz_principal[i][j-1]+gap_score)\n",
        "\n",
        "print(matriz_principal)"
      ],
      "metadata": {
        "colab": {
          "base_uri": "https://localhost:8080/"
        },
        "id": "nm47MgjquDtu",
        "outputId": "6bbaeaf5-4cf5-4bac-9a9e-a388ddfab5fb"
      },
      "execution_count": null,
      "outputs": [
        {
          "output_type": "stream",
          "name": "stdout",
          "text": [
            "[[  0.  -2.  -4.  -6.  -8.]\n",
            " [ -2.   1.  -1.  -3.  -5.]\n",
            " [ -4.  -1.   0.  -2.  -2.]\n",
            " [ -6.  -3.   0.  -1.  -3.]\n",
            " [ -8.  -5.  -2.   1.  -1.]\n",
            " [-10.  -7.  -4.  -1.   2.]]\n"
          ]
        }
      ]
    },
    {
      "cell_type": "markdown",
      "source": [
        "#### Passo 3: Traceback"
      ],
      "metadata": {
        "id": "V5z3tGNgwNfb"
      }
    },
    {
      "cell_type": "code",
      "source": [
        "alinhado1 = \"\"\n",
        "alinhado2 = \"\"\n",
        "\n",
        "ti = len(sequencia1)\n",
        "tj = len(sequencia2)\n",
        "\n",
        "while(ti > 0 or tj > 0):\n",
        "  if(ti > 0 and tj > 0 and matriz_principal[ti][tj] == matriz_principal[ti-1][tj-1] + matriz_match_mismatch[ti-1][tj-1]):\n",
        "    alinhado1 = sequencia1[ti-1] + alinhado1\n",
        "    alinhado2 = sequencia2[tj-1] + alinhado2\n",
        "    ti = ti - 1\n",
        "    tj = tj - 1\n",
        "  elif(ti > 0 and matriz_principal[ti][tj] == matriz_principal[ti-1][tj] + gap_score):\n",
        "    alinhado1 = sequencia1[ti-1] + alinhado1\n",
        "    alinhado2 = \"-\" + alinhado2\n",
        "    ti = ti - 1\n",
        "  else:\n",
        "    alinhado1 = \"-\" + alinhado1\n",
        "    alinhado2 = sequencia2[tj-1] + alinhado2\n",
        "    tj = tj - 1"
      ],
      "metadata": {
        "id": "8KLM0qzlwIpW"
      },
      "execution_count": null,
      "outputs": []
    },
    {
      "cell_type": "code",
      "source": [
        "print(len(sequencia1))\n",
        "print(len(sequencia2))"
      ],
      "metadata": {
        "colab": {
          "base_uri": "https://localhost:8080/"
        },
        "id": "uoq1NXSkBuUh",
        "outputId": "98bf9796-b590-4694-cb52-56119e05771f"
      },
      "execution_count": null,
      "outputs": [
        {
          "output_type": "stream",
          "name": "stdout",
          "text": [
            "5\n",
            "4\n"
          ]
        }
      ]
    },
    {
      "cell_type": "markdown",
      "source": [
        "### Imprime o alinhamento global"
      ],
      "metadata": {
        "id": "zJ_BvI97061i"
      }
    },
    {
      "cell_type": "code",
      "source": [
        "print(alinhado1)\n",
        "print(alinhado2)"
      ],
      "metadata": {
        "colab": {
          "base_uri": "https://localhost:8080/"
        },
        "id": "cY18_HFl1AwV",
        "outputId": "adaf9bfe-962e-454f-a1c7-b9ba25c8c4d7"
      },
      "execution_count": null,
      "outputs": [
        {
          "output_type": "stream",
          "name": "stdout",
          "text": [
            "ATCGT\n",
            "A-CGT\n"
          ]
        }
      ]
    }
  ]
}