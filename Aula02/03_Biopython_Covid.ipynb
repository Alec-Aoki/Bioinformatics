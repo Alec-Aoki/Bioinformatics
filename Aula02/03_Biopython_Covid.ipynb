{
  "nbformat": 4,
  "nbformat_minor": 0,
  "metadata": {
    "colab": {
      "provenance": []
    },
    "kernelspec": {
      "name": "python3",
      "display_name": "Python 3"
    },
    "language_info": {
      "name": "python"
    }
  },
  "cells": [
    {
      "cell_type": "markdown",
      "source": [
        "## Analisando o genoma da Covid-19 com o Biopython\n",
        "\n",
        "Extraído de https://github.com/lanadominkovic/12-days-of-biopython\n",
        "\n",
        "MN908947 - o genoma da covid-19 usado aqui foi sequenciado de uma amostra de fluido de lavagem broncoalveolar de um único paciente que era trabalhador do mercado e que foi internado no Hospital Central de Wuhan em 26 de dezembro de 2019"
      ],
      "metadata": {
        "id": "nPBuqHMKtdu0"
      }
    },
    {
      "cell_type": "code",
      "execution_count": null,
      "metadata": {
        "colab": {
          "base_uri": "https://localhost:8080/"
        },
        "id": "NjAN10RRtcBy",
        "outputId": "6e4e9299-8f0d-4b4f-9db6-f379e1a1897c"
      },
      "outputs": [
        {
          "output_type": "stream",
          "name": "stdout",
          "text": [
            "Collecting biopython\n",
            "  Downloading biopython-1.85-cp312-cp312-manylinux_2_17_x86_64.manylinux2014_x86_64.whl.metadata (13 kB)\n",
            "Requirement already satisfied: numpy in /usr/local/lib/python3.12/dist-packages (from biopython) (2.0.2)\n",
            "Downloading biopython-1.85-cp312-cp312-manylinux_2_17_x86_64.manylinux2014_x86_64.whl (3.3 MB)\n",
            "\u001b[?25l   \u001b[90m━━━━━━━━━━━━━━━━━━━━━━━━━━━━━━━━━━━━━━━━\u001b[0m \u001b[32m0.0/3.3 MB\u001b[0m \u001b[31m?\u001b[0m eta \u001b[36m-:--:--\u001b[0m\r\u001b[2K   \u001b[91m━━━━━━━━━━━\u001b[0m\u001b[91m╸\u001b[0m\u001b[90m━━━━━━━━━━━━━━━━━━━━━━━━━━━━\u001b[0m \u001b[32m0.9/3.3 MB\u001b[0m \u001b[31m28.1 MB/s\u001b[0m eta \u001b[36m0:00:01\u001b[0m\r\u001b[2K   \u001b[91m━━━━━━━━━━━━━━━━━━━━━━━━━━━━━━━━━━━━━━━\u001b[0m\u001b[91m╸\u001b[0m \u001b[32m3.3/3.3 MB\u001b[0m \u001b[31m66.5 MB/s\u001b[0m eta \u001b[36m0:00:01\u001b[0m\r\u001b[2K   \u001b[90m━━━━━━━━━━━━━━━━━━━━━━━━━━━━━━━━━━━━━━━━\u001b[0m \u001b[32m3.3/3.3 MB\u001b[0m \u001b[31m46.0 MB/s\u001b[0m eta \u001b[36m0:00:00\u001b[0m\n",
            "\u001b[?25hInstalling collected packages: biopython\n",
            "Successfully installed biopython-1.85\n"
          ]
        }
      ],
      "source": [
        "# Instalando o Biopython\n",
        "!pip install biopython"
      ]
    },
    {
      "cell_type": "code",
      "source": [
        "# Interface com o NCBI\n",
        "from Bio import Entrez, SeqIO\n",
        "Entrez.email = \"cerri@icmc.usp.br\"\n",
        "handle = Entrez.efetch(db=\"nucleotide\", id=\"MN908947\", rettype=\"gb\", retmode=\"text\")\n",
        "recs = list(SeqIO.parse(handle, 'gb'))\n",
        "handle.close()"
      ],
      "metadata": {
        "id": "F2x8qnGst3hT"
      },
      "execution_count": null,
      "outputs": []
    },
    {
      "cell_type": "code",
      "source": [
        "# Registro completo\n",
        "recs"
      ],
      "metadata": {
        "colab": {
          "base_uri": "https://localhost:8080/"
        },
        "id": "HpJXYHzeuHJx",
        "outputId": "aa73d082-199e-428a-ec4a-6c9f7bbbc8fb"
      },
      "execution_count": null,
      "outputs": [
        {
          "output_type": "execute_result",
          "data": {
            "text/plain": [
              "[SeqRecord(seq=Seq('ATTAAAGGTTTATACCTTCCCAGGTAACAAACCAACCAACTTTCGATCTCTTGT...AAA'), id='MN908947.3', name='MN908947', description='Severe acute respiratory syndrome coronavirus 2 isolate Wuhan-Hu-1, complete genome', dbxrefs=[])]"
            ]
          },
          "metadata": {},
          "execution_count": 3
        }
      ]
    },
    {
      "cell_type": "code",
      "source": [
        "# Extrai a sequência\n",
        "covid_dna = recs[0].seq\n",
        "covid_dna\n",
        "print(f'O genoma da Covid-19 consiste de {len(covid_dna)} nucleotídeos.')"
      ],
      "metadata": {
        "colab": {
          "base_uri": "https://localhost:8080/"
        },
        "id": "wGqtP8WnuOAr",
        "outputId": "958d92f8-38d6-4593-d4a0-91af8379d911"
      },
      "execution_count": null,
      "outputs": [
        {
          "output_type": "stream",
          "name": "stdout",
          "text": [
            "O genoma da Covid-19 consiste de 29903 nucleotídeos.\n"
          ]
        }
      ]
    },
    {
      "cell_type": "code",
      "source": [
        "# Peso molecular - O peso molecular é medido em unidades de massa atômica\n",
        "from Bio.SeqUtils import molecular_weight\n",
        "molecular_weight(covid_dna)"
      ],
      "metadata": {
        "colab": {
          "base_uri": "https://localhost:8080/"
        },
        "id": "kdyd5cKQuqGl",
        "outputId": "958e48dc-55cd-46c7-e284-245031974fb2"
      },
      "execution_count": null,
      "outputs": [
        {
          "output_type": "execute_result",
          "data": {
            "text/plain": [
              "9241219.214399999"
            ]
          },
          "metadata": {},
          "execution_count": 5
        }
      ]
    },
    {
      "cell_type": "code",
      "source": [
        "# Conteúdo GC - maior conteúdo GC implica em uma molécula mais estável devido a G e C formarem ligações triplas de hidrogênio\n",
        "from Bio.SeqUtils import GC123\n",
        "GC123(covid_dna)[0]"
      ],
      "metadata": {
        "colab": {
          "base_uri": "https://localhost:8080/"
        },
        "id": "SJbAK0hyvU9O",
        "outputId": "f56ff269-1082-4f57-df1d-8f8570baae6d"
      },
      "execution_count": null,
      "outputs": [
        {
          "output_type": "execute_result",
          "data": {
            "text/plain": [
              "37.97277865097148"
            ]
          },
          "metadata": {},
          "execution_count": 6
        }
      ]
    },
    {
      "cell_type": "markdown",
      "source": [
        "#### Distribuição de nucleotídeos no genoma da COVID-19"
      ],
      "metadata": {
        "id": "NMeq3Pzqwgn-"
      }
    },
    {
      "cell_type": "code",
      "source": [
        "count_nucleotides = {\n",
        "    'A': covid_dna.count('A'),\n",
        "    'T': covid_dna.count('T'),\n",
        "    'C': covid_dna.count('C'),\n",
        "    'G': covid_dna.count('G')\n",
        "}"
      ],
      "metadata": {
        "id": "sJYppME9wjt3"
      },
      "execution_count": null,
      "outputs": []
    },
    {
      "cell_type": "code",
      "source": [
        "count_nucleotides"
      ],
      "metadata": {
        "colab": {
          "base_uri": "https://localhost:8080/"
        },
        "id": "uX7fuJYFwmC1",
        "outputId": "9297f701-12f2-4c0d-efd4-5c4d3b15f6ca"
      },
      "execution_count": null,
      "outputs": [
        {
          "output_type": "execute_result",
          "data": {
            "text/plain": [
              "{'A': 8954, 'T': 9594, 'C': 5492, 'G': 5863}"
            ]
          },
          "metadata": {},
          "execution_count": 8
        }
      ]
    },
    {
      "cell_type": "code",
      "source": [
        "# Coloca em um gráfico\n",
        "import matplotlib.pyplot as plt\n",
        "width = 0.5\n",
        "plt.bar(count_nucleotides.keys(), count_nucleotides.values(), width, color=['b', 'r', 'm', 'c'])\n",
        "plt.xlabel('Nucleotídeo')\n",
        "plt.ylabel('Frequêncua')\n",
        "plt.title('Frequência de Nucleotídeos')"
      ],
      "metadata": {
        "colab": {
          "base_uri": "https://localhost:8080/",
          "height": 490
        },
        "id": "tx9pnnKywpz-",
        "outputId": "e8d94fe7-0973-4781-c18f-cc3c5e7b3aca"
      },
      "execution_count": null,
      "outputs": [
        {
          "output_type": "execute_result",
          "data": {
            "text/plain": [
              "Text(0.5, 1.0, 'Frequência de Nucleotídeos')"
            ]
          },
          "metadata": {},
          "execution_count": 9
        },
        {
          "output_type": "display_data",
          "data": {
            "text/plain": [
              "<Figure size 640x480 with 1 Axes>"
            ],
            "image/png": "[encoded data removed]"
          },
          "metadata": {}
        }
      ]
    },
    {
      "cell_type": "markdown",
      "source": [
        "Primeira observação: A frequência dos nucleotídeos A e T é maior que a frequência de C e G.\n",
        "\n",
        "Entender essa informação genética é a chave para encontrar curas e vacinas. Então, a questão aqui é: Como extraímos informações dessa longa sequência de letras?\n",
        "\n",
        "Esse processo é chamado de expressão gênica: A expressão gênica é o processo pelo qual as informações de um gene são usadas na síntese de um produto gênico funcional. Esses produtos geralmente são proteínas."
      ],
      "metadata": {
        "id": "Ju5bBeSbxJMJ"
      }
    },
    {
      "cell_type": "markdown",
      "source": [
        "#### Transcrição\n",
        "\n",
        "Transcrição é o primeiro passo na expressão genética. Envolve copiar a sequência de DNA de um gene para fazer uma molécula de RNA."
      ],
      "metadata": {
        "id": "SO8XDvpbxPcF"
      }
    },
    {
      "cell_type": "code",
      "source": [
        "covid_mrna = covid_dna.transcribe()\n",
        "covid_mrna"
      ],
      "metadata": {
        "colab": {
          "base_uri": "https://localhost:8080/"
        },
        "id": "UQ97VEKFxYMI",
        "outputId": "db5fa4c3-7946-45b6-d8b9-043cc572b969"
      },
      "execution_count": null,
      "outputs": [
        {
          "output_type": "execute_result",
          "data": {
            "text/plain": [
              "Seq('AUUAAAGGUUUAUACCUUCCCAGGUAACAAACCAACCAACUUUCGAUCUCUUGU...AAA')"
            ]
          },
          "metadata": {},
          "execution_count": 10
        }
      ]
    },
    {
      "cell_type": "markdown",
      "source": [
        "#### Tradução\n",
        "\n",
        "Tradução é o processo que pega a informação transmitida do DNA como RNA mensageiro e a transforma em uma série de aminoácidos."
      ],
      "metadata": {
        "id": "KD3YRrNqxe2K"
      }
    },
    {
      "cell_type": "code",
      "source": [
        "covid_aa = covid_mrna.translate()\n",
        "covid_aa"
      ],
      "metadata": {
        "colab": {
          "base_uri": "https://localhost:8080/"
        },
        "id": "9wfQH8ZGxl8t",
        "outputId": "96c77129-9db7-4f1e-fc3c-ed1f270b981f"
      },
      "execution_count": null,
      "outputs": [
        {
          "output_type": "stream",
          "name": "stderr",
          "text": [
            "/usr/local/lib/python3.12/dist-packages/Bio/Seq.py:2879: BiopythonWarning: Partial codon, len(sequence) not a multiple of three. Explicitly trim the sequence or add trailing N before translation. This may become an error in future.\n",
            "  warnings.warn(\n"
          ]
        },
        {
          "output_type": "execute_result",
          "data": {
            "text/plain": [
              "Seq('IKGLYLPR*QTNQLSISCRSVL*TNFKICVAVTRLHA*CTHAV*LITNYCR*QD...KKK')"
            ]
          },
          "metadata": {},
          "execution_count": 11
        }
      ]
    },
    {
      "cell_type": "code",
      "source": [
        "# Conta os aminoácidos\n",
        "from collections import Counter\n",
        "common_amino = Counter(covid_aa)\n",
        "common_amino.most_common(10)"
      ],
      "metadata": {
        "colab": {
          "base_uri": "https://localhost:8080/"
        },
        "id": "WdjUSQL7xsrH",
        "outputId": "448a785e-912b-4b05-8189-bf6492589347"
      },
      "execution_count": null,
      "outputs": [
        {
          "output_type": "execute_result",
          "data": {
            "text/plain": [
              "[('L', 886),\n",
              " ('S', 810),\n",
              " ('*', 774),\n",
              " ('T', 679),\n",
              " ('C', 635),\n",
              " ('F', 593),\n",
              " ('R', 558),\n",
              " ('V', 548),\n",
              " ('Y', 505),\n",
              " ('N', 472)]"
            ]
          },
          "metadata": {},
          "execution_count": 12
        }
      ]
    },
    {
      "cell_type": "code",
      "source": [
        "# Deleta os * (stop codon)\n",
        "# Plota os resultados\n",
        "del common_amino['*']\n",
        "\n",
        "width = 0.5\n",
        "plt.bar(common_amino.keys(), common_amino.values(), width, color=['b', 'r', 'm', 'c'])\n",
        "plt.xlabel('Aminoácido')\n",
        "plt.ylabel('Frequência')\n",
        "plt.title('Frequência na Sequência de Proteína')"
      ],
      "metadata": {
        "colab": {
          "base_uri": "https://localhost:8080/",
          "height": 490
        },
        "id": "huF9fnskxzyS",
        "outputId": "68ae0dc4-b078-4dc9-da69-003319a91f98"
      },
      "execution_count": null,
      "outputs": [
        {
          "output_type": "execute_result",
          "data": {
            "text/plain": [
              "Text(0.5, 1.0, 'Frequência na Sequência de Proteína')"
            ]
          },
          "metadata": {},
          "execution_count": 13
        },
        {
          "output_type": "display_data",
          "data": {
            "text/plain": [
              "<Figure size 640x480 with 1 Axes>"
            ],
            "image/png": "[encoded data removed]"
          },
          "metadata": {}
        }
      ]
    },
    {
      "cell_type": "code",
      "source": [
        "print(f\"O genoma da covid-19 tem {sum(common_amino.values())} aminoácidos\")"
      ],
      "metadata": {
        "colab": {
          "base_uri": "https://localhost:8080/"
        },
        "id": "7IO-B5gIyGQf",
        "outputId": "ab68cd3a-2100-41b3-ee29-9b9c78e61867"
      },
      "execution_count": null,
      "outputs": [
        {
          "output_type": "stream",
          "name": "stdout",
          "text": [
            "O genoma da covid-19 tem 9193 aminoácidos\n"
          ]
        }
      ]
    },
    {
      "cell_type": "markdown",
      "source": [
        "A função split() divide a sequência em qualquer stop códon e mantém as cadeias de aminoácidos separadas. Isso facilita a análise posterior."
      ],
      "metadata": {
        "id": "WP0RVGI0yVI4"
      }
    },
    {
      "cell_type": "code",
      "source": [
        "proteins = covid_aa.split('*')\n",
        "proteins"
      ],
      "metadata": {
        "colab": {
          "base_uri": "https://localhost:8080/"
        },
        "id": "lgySxTDtyiTn",
        "outputId": "77bada70-a9ee-412a-9859-6b462f5685c6"
      },
      "execution_count": null,
      "outputs": [
        {
          "output_type": "execute_result",
          "data": {
            "text/plain": [
              "[Seq('IKGLYLPR'),\n",
              " Seq('QTNQLSISCRSVL'),\n",
              " Seq('TNFKICVAVTRLHA'),\n",
              " Seq('CTHAV'),\n",
              " Seq('LITNYCR'),\n",
              " Seq('QDTSNSSIFCRLLTVSSVLQPIISTSRFRPGVTER'),\n",
              " Seq('DGEPCPWFQRENTRPTQFACFTGSRRARTWLWRLRGGGLIRGTSTS'),\n",
              " Seq('RWHLWLSRS'),\n",
              " Seq('KRRFAST'),\n",
              " Seq('TALCVHQTFGCSNCTSWSCYG'),\n",
              " Seq('AGSRTRRHSVRS'),\n",
              " Seq('W'),\n",
              " Seq('DTWCPCPSCGRNTSGLPQGSSS'),\n",
              " Seq('ER'),\n",
              " Seq(''),\n",
              " Seq('RSWWP'),\n",
              " Seq('LRRRSKVI'),\n",
              " Seq('LRRRAWH'),\n",
              " Seq('SL'),\n",
              " Seq('RFSRKLEH'),\n",
              " Seq('T'),\n",
              " Seq('QWCYP'),\n",
              " Seq('THA'),\n",
              " Seq('A'),\n",
              " Seq('RRGIHSLCR'),\n",
              " Seq('QLLWP'),\n",
              " Seq('WLPS'),\n",
              " Seq('VH'),\n",
              " Seq('RPSSTCW'),\n",
              " Seq('SFMHFVRTTGLY'),\n",
              " Seq('H'),\n",
              " Seq('EGCILLP'),\n",
              " Seq('T'),\n",
              " Seq('A'),\n",
              " Seq('NCLVHGTF'),\n",
              " Seq('KEL'),\n",
              " Seq('IADTF'),\n",
              " Seq('N'),\n",
              " Seq('IGKEI'),\n",
              " Seq('HLQWGMSKFCISLKFHNQDYSTKG'),\n",
              " Seq('KEKA'),\n",
              " Seq('WLYG'),\n",
              " Seq('NSICLSSCVTK'),\n",
              " Seq('MQPNVPFNSHEV'),\n",
              " Seq('SLW'),\n",
              " Seq('NFMADGRFC'),\n",
              " Seq('SHLRILWH'),\n",
              " Seq('EFD'),\n",
              " Seq('RRCHYLWLLTPKCCC'),\n",
              " Seq('NLLSSMSQFRSRT'),\n",
              " Seq('A'),\n",
              " Seq('SCRIP'),\n",
              " Seq(''),\n",
              " Seq('IWLENHSS'),\n",
              " Seq('GWSHYCLWRLCVLLCWLP'),\n",
              " Seq('QVCLLGSTC'),\n",
              " Seq('R'),\n",
              " Seq('HRL'),\n",
              " Seq('PYRCCWRRFRRS'),\n",
              " Seq(''),\n",
              " Seq('QPS'),\n",
              " Seq('NTPKRESQHQYCW'),\n",
              " Seq('L'),\n",
              " Seq('T'),\n",
              " Seq(''),\n",
              " Seq('RDRHYFGIFFCFHKCFCGNCERFGL'),\n",
              " Seq('SIQTNC'),\n",
              " Seq('ILW'),\n",
              " Seq('F'),\n",
              " Seq('SYKRKS'),\n",
              " Seq('KRCLEYW'),\n",
              " Seq('TEINTESSLCICIRGCSCCTINFLPHS'),\n",
              " Seq('NCSKFCACFTEGRYNNTRWNFTVFTETH'),\n",
              " Seq('CYDVHI'),\n",
              " Seq('FGY'),\n",
              " Seq('QSSCNGLHYRWCCSVDFAVAN'),\n",
              " Seq('HLWHCL'),\n",
              " Seq('KTQTRP'),\n",
              " Seq('LA'),\n",
              " Seq('REV'),\n",
              " Seq('GRCRVS'),\n",
              " Seq('RRLGNC'),\n",
              " Seq('IYLNLCL'),\n",
              " Seq('NCRWTNCHLCKGN'),\n",
              " Seq('GECSDIL'),\n",
              " Seq('ACK'),\n",
              " Seq('IFGFVC'),\n",
              " Seq('LYHYWWS'),\n",
              " Seq('T'),\n",
              " Seq('SLEFR'),\n",
              " Seq('NICHALKGIVQKVC'),\n",
              " Seq('IQRRNWPTHASKSPKRNYLLRGRNTSHRSVNRGSCLENW'),\n",
              " Seq('FTTIRTTY'),\n",
              " Seq(''),\n",
              " Seq('SC'),\n",
              " Seq('SSIGWYTSLY'),\n",
              " Seq('RAYVARNQRHRKVLCPCT'),\n",
              " Seq('YDGNKQYLHTQRRCTNKGYFW'),\n",
              " Seq(''),\n",
              " Seq('HCDRSARLQECEYHF'),\n",
              " Seq('T'),\n",
              " Seq(''),\n",
              " Seq('KD'),\n",
              " Seq(''),\n",
              " Seq('ST'),\n",
              " Seq(''),\n",
              " Seq('EVLCLYS'),\n",
              " Seq('TRYRSK'),\n",
              " Seq('VRLCCGRCCHKNFATSI'),\n",
              " Seq('ITYTTGH'),\n",
              " Seq('FR'),\n",
              " Seq('VEYGYILLI'),\n",
              " Seq(''),\n",
              " Seq('VW'),\n",
              " Seq('V'),\n",
              " Seq('IGFTYVLFFLPSR'),\n",
              " Seq('G'),\n",
              " Seq('RRR'),\n",
              " Seq('L'),\n",
              " Seq('RRRV'),\n",
              " Seq('AINSI'),\n",
              " Seq('VWY'),\n",
              " Seq('R'),\n",
              " Seq('LPR'),\n",
              " Seq('TFGIWCHFCCSST'),\n",
              " Seq('RRARRRLVR'),\n",
              " Seq(''),\n",
              " Seq(''),\n",
              " Seq('STNCWSTRRQ'),\n",
              " Seq('GQSDNYYSNNC'),\n",
              " Seq('GSTSIRDGTYTSCSDY'),\n",
              " Seq('SE'),\n",
              " Seq('F'),\n",
              " Seq('WLFKTY'),\n",
              " Seq('QCIH'),\n",
              " Seq('KCRHCGRS'),\n",
              " Seq('KGKTNSGC'),\n",
              " Seq('CSQCLP'),\n",
              " Seq('TWRRCCRSLK'),\n",
              " Seq('GY'),\n",
              " Seq('QCHAS'),\n",
              " Seq('I'),\n",
              " Seq(''),\n",
              " Seq('LHSY'),\n",
              " Seq('WTT'),\n",
              " Seq('SGW'),\n",
              " Seq('LCFKRTQSC'),\n",
              " Seq('TLSSCCRPKC'),\n",
              " Seq('QR'),\n",
              " Seq('RHSTS'),\n",
              " Seq('ECL'),\n",
              " Seq('KF'),\n",
              " Seq('SARSSTCTIIISWYFWC'),\n",
              " Seq('PYTFFKSLCRYCSHKCLLSCL'),\n",
              " Seq(''),\n",
              " Seq('KSL'),\n",
              " Seq('QTCFKLFGNEE'),\n",
              " Seq('KAS'),\n",
              " Seq('TKDR'),\n",
              " Seq('DS'),\n",
              " Seq('RGS'),\n",
              " Seq('AIYN'),\n",
              " Seq('K'),\n",
              " Seq('TFS'),\n",
              " Seq('TEKTR'),\n",
              " Seq(''),\n",
              " Seq('ENQSLC'),\n",
              " Seq('RSYNNSGRN'),\n",
              " Seq('VPHRKLVTLY'),\n",
              " Seq('H'),\n",
              " Seq('WQSSSRFCHSC'),\n",
              " Seq(''),\n",
              " Seq('H'),\n",
              " Seq('HHFLKERCSIYSG'),\n",
              " Seq('CCSRGCFNCCGYTY'),\n",
              " Seq('KGWWHY'),\n",
              " Seq('NASESFEKSANRQLYNHLPGSGFKWLHCRGGKDSA'),\n",
              " Seq('KV'),\n",
              " Seq('KCLLHSTIYYL'),\n",
              " Seq(''),\n",
              " Seq('EARNSWNCFLEFARNACTCRRNTQINACLCGN'),\n",
              " Seq('SHSFNYTA'),\n",
              " Seq('I'),\n",
              " Seq('GY'),\n",
              " Seq('NTRGCG'),\n",
              " Seq('LWC'),\n",
              " Seq('ILLLHQ'),\n",
              " Seq('NNCSVTYQHT'),\n",
              " Seq('RSK'),\n",
              " Seq('NSCYNATWLCNTWLKFGRSCSVYEISQSASYSFCFFT'),\n",
              " Seq('CCYSV'),\n",
              " Seq('WLSYFFF'),\n",
              " Seq('NT'),\n",
              " Seq('RTFY'),\n",
              " Seq('NHLTCWFL'),\n",
              " Seq('RLVLFWTIYTTRYRIS'),\n",
              " Seq('ER'),\n",
              " Seq(''),\n",
              " Seq('KCILH'),\n",
              " Seq(''),\n",
              " Seq('SYHIPPRW'),\n",
              " Seq('SYHL'),\n",
              " Seq('QS'),\n",
              " Seq('DTSFFERSEDY'),\n",
              " Seq('GVYNSRQH'),\n",
              " Seq('PPHASCGHVNDIWTTVWSNLFGWS'),\n",
              " Seq('CY'),\n",
              " Seq('NKTS'),\n",
              " Seq('FT'),\n",
              " Seq('R'),\n",
              " Seq('NILCFT'),\n",
              " Seq(''),\n",
              " Seq(''),\n",
              " Seq('HSTC'),\n",
              " Seq('GF'),\n",
              " Seq('VLPHN'),\n",
              " Seq('S'),\n",
              " Seq('FSG'),\n",
              " Seq('VHVSIKSH'),\n",
              " Seq('KVEIPTS'),\n",
              " Seq('WFNFY'),\n",
              " Seq('MGR'),\n",
              " Seq('QLLSCHCIVNTPTNRVEV'),\n",
              " Seq('STCSTRCLLQSKGW'),\n",
              " Seq('SC'),\n",
              " Seq('LLCTYLSLL'),\n",
              " Seq(''),\n",
              " Seq('DSR'),\n",
              " Seq('VR'),\n",
              " Seq('C'),\n",
              " Seq('RNNELLVSTCQFRFLQKSLERGV'),\n",
              " Seq('NLWTTADNP'),\n",
              " Seq('GCRSCYVHGHTFL'),\n",
              " Seq('TI'),\n",
              " Seq('ERCSDTLYVW'),\n",
              " Seq('TSYKISSTTGVTFCYDVSTTCSV'),\n",
              " Seq('T'),\n",
              " Seq('AWYIYLC'),\n",
              " Seq(''),\n",
              " Seq('VHW'),\n",
              " Seq('LPVWSL'),\n",
              " Seq('TYNF'),\n",
              " Seq('RNFVLHRRCFTYKVLRIQRSYYGCFLQRKQLHNNHKTSYL'),\n",
              " Seq('IGWCCLYRN'),\n",
              " Seq('P'),\n",
              " Seq('VGQLL'),\n",
              " Seq('ERQFLFHRATN'),\n",
              " Seq('SCTKPTISKRKLR'),\n",
              " Seq('F'),\n",
              " Seq('VCM'),\n",
              " Seq(''),\n",
              " Seq('YQIC'),\n",
              " Seq(''),\n",
              " Seq('FKPVNWL'),\n",
              " Seq('ETCFKRA'),\n",
              " Seq('SYIFP'),\n",
              " Seq('LKW'),\n",
              " Seq('CGGY'),\n",
              " Seq('L'),\n",
              " Seq('TLHTLF'),\n",
              " Seq('ERS'),\n",
              " Seq('IVT'),\n",
              " Seq('TYCLAC'),\n",
              " Seq('QCN'),\n",
              " Seq(''),\n",
              " Seq('SHV'),\n",
              " Seq('TKYLVYTLSLEHKTS'),\n",
              " Seq('NIKFV'),\n",
              " Seq('CTEVRGRAGNG'),\n",
              " Seq('SCLRRSKTSL'),\n",
              " Seq('RSSGKSYHTERRS'),\n",
              " Seq('V'),\n",
              " Seq('CENYRSCRRHYT'),\n",
              " Seq('TSK'),\n",
              " Seq(''),\n",
              " Seq('FKNYRRGWPHRSNGCLCRQF'),\n",
              " Seq('SYY'),\n",
              " Seq('ET'),\n",
              " Seq(''),\n",
              " Seq('II'),\n",
              " Seq('SIRFENPCYSWFSCC'),\n",
              " Seq(''),\n",
              " Seq('CPLGYYS'),\n",
              " Seq('LC'),\n",
              " Seq('AFS'),\n",
              " Seq('QSC'),\n",
              " Seq('YNY'),\n",
              " Seq('HSYTVFKPCLY'),\n",
              " Seq('LYALFLYFIATIVYFY'),\n",
              " Seq('KYKF'),\n",
              " Seq('N'),\n",
              " Seq('SIYADYYSKEYC'),\n",
              " Seq('ECR'),\n",
              " Seq('ILSRGFI'),\n",
              " Seq('LFEVT'),\n",
              " Seq('FF'),\n",
              " Seq('TDKYYNLVFTIKCLPRFFNLLNRCFRCFNV'),\n",
              " Seq('FRHAFLLYWLQRRLFELY'),\n",
              " Seq('CHYCNLLYWFYTL'),\n",
              " Seq('CLS'),\n",
              " Seq('WFRFFRHLSFFRNYTNYHFIF'),\n",
              " Seq('MGFNCFWLSCRVVFGIYSFH'),\n",
              " Seq('VFLCTWIGCNHAIVFQLFCSTFY'),\n",
              " Seq(''),\n",
              " Seq('FLAYVVNN'),\n",
              " Seq('SCTNGPDFSYG'),\n",
              " Seq('NVHLLCIILLCMEKLCACCRRL'),\n",
              " Seq('FINLYDVLQT'),\n",
              " Seq(''),\n",
              " Seq('SNKSRMYNYC'),\n",
              " Seq('WC'),\n",
              " Seq('KVLLCLC'),\n",
              " Seq('WR'),\n",
              " Seq('RLLQTTQLELC'),\n",
              " Seq('L'),\n",
              " Seq('YILCW'),\n",
              " Seq('YIY'),\n",
              " Seq(''),\n",
              " Seq(''),\n",
              " Seq('SCERLVTTV'),\n",
              " Seq('KTNKSY'),\n",
              " Seq('PVFLHR'),\n",
              " Seq(''),\n",
              " Seq('CYSEEWFHPSLL'),\n",
              " Seq(''),\n",
              " Seq('SWSKDL'),\n",
              " Seq('KTFSLSFC'),\n",
              " Seq('LRQPES'),\n",
              " Seq(''),\n",
              " Seq('H'),\n",
              " Seq('RFIAY'),\n",
              " Seq('CYSF'),\n",
              " Seq('W'),\n",
              " Seq('IKM'),\n",
              " Seq('RIICKISVCLLQSAYVSTYTVTRSGISV'),\n",
              " Seq('CW'),\n",
              " Seq(''),\n",
              " Seq('CGSCS'),\n",
              " Seq('NV'),\n",
              " Seq('CLR'),\n",
              " Seq('YVFINF'),\n",
              " Seq('RTNGKTQNTSCNCRS'),\n",
              " Seq('TCKECVLRQCLIYFYFSSSARVC'),\n",
              " Seq('FRCRN'),\n",
              " Seq('RCC'),\n",
              " Seq('MS'),\n",
              " Seq('IVTSI'),\n",
              " Seq('HRSYWR'),\n",
              " Seq('L'),\n",
              " Seq(''),\n",
              " Seq('LYAHL'),\n",
              " Seq('QS'),\n",
              " Seq('KHDTP'),\n",
              " Seq('PWCLY'),\n",
              " Seq('L'),\n",
              " Seq('CASY'),\n",
              " Seq('CAGSKKSQHCFDMER'),\n",
              " Seq('RFHVIV'),\n",
              " Seq('TTTKTNT'),\n",
              " Seq('CC'),\n",
              " Seq('KE'),\n",
              " Seq('LTF'),\n",
              " Seq('VDMCNY'),\n",
              " Seq('TSC'),\n",
              " Seq('CCNNKDST'),\n",
              " Seq('GW'),\n",
              " Seq('NC'),\n",
              " Seq(''),\n",
              " Seq('LVEAVN'),\n",
              " Seq('SYTCVPFCCCYFLFNNTCSCHV'),\n",
              " Seq('TY'),\n",
              " Seq('LFK'),\n",
              " Seq('NHRIQGY'),\n",
              " Seq('WWCHS'),\n",
              " Seq('HSIYRYLFC'),\n",
              " Seq('QTC'),\n",
              " Seq('F'),\n",
              " Seq('HMV'),\n",
              " Seq('PAWW'),\n",
              " Seq('LY'),\n",
              " Seq(''),\n",
              " Seq('QSLPIDCCSHNKRSGFCRAWFAWHDITHN'),\n",
              " Seq('W'),\n",
              " Seq('LFAFLT'),\n",
              " Seq('SF'),\n",
              " Seq('CSW'),\n",
              " Seq('HLLHTIKTYRVH'),\n",
              " Seq('LCNISLCFGC'),\n",
              " Seq('MYNF'),\n",
              " Seq('RCFW'),\n",
              " Seq('ASTILL'),\n",
              " Seq('YQCTRRFCCL'),\n",
              " Seq('KFTP'),\n",
              " Seq('HTLCAHGWLYYSIS'),\n",
              " Seq('HLP'),\n",
              " Seq('RFC'),\n",
              " Seq('SGNNF'),\n",
              " Seq('F'),\n",
              " Seq('VL'),\n",
              " Seq('ARHL'),\n",
              " Seq('KIRSWCLCIY'),\n",
              " Seq('W'),\n",
              " Seq('MGT'),\n",
              " Seq('Q'),\n",
              " Seq('LLQIFTRSFLWCRCCKFTY'),\n",
              " Seq('YVYTTNSTYWCFGHISIYSSWWYCSYRSNMPCLLFYEV'),\n",
              " Seq('KSFW'),\n",
              " Seq('IQSCSCL'),\n",
              " Seq('YFTIPYVIHCTLFNTSLLILTWCLFCYLLVLDILSY'),\n",
              " Seq(''),\n",
              " Seq('CFFFSTYSVDGYVHTFSTFLDNNCLYHLYFHKAFLLVL'),\n",
              " Seq(''),\n",
              " Seq('LPKETCSL'),\n",
              " Seq('WCFL'),\n",
              " Seq('YF'),\n",
              " Seq('RSCAVHLFVK'),\n",
              " Seq('RNVSKVA'),\n",
              " Seq(''),\n",
              " Seq('CAITSYAI'),\n",
              " Seq(''),\n",
              " Seq('ILSSL'),\n",
              " Seq(''),\n",
              " Seq('VQVF'),\n",
              " Seq('WSNGYN'),\n",
              " Seq('LQRSCLLSSRKGSQ'),\n",
              " Seq('LQ'),\n",
              " Seq('LRF'),\n",
              " Seq('CSLPTTTNLYHLSCFAEWF'),\n",
              " Seq('KNGIPIW'),\n",
              " Seq('S'),\n",
              " Seq('GLYGTSNLWYNYT'),\n",
              " Seq('RSLA'),\n",
              " Seq(''),\n",
              " Seq('RSLLSKTCDLHL'),\n",
              " Seq('RHA'),\n",
              " Seq('P'),\n",
              " Seq('L'),\n",
              " Seq('RFTHS'),\n",
              " Seq('V'),\n",
              " Seq('S'),\n",
              " Seq('FLGTGW'),\n",
              " Seq('CSTQGYWTFYAKLCT'),\n",
              " Seq('A'),\n",
              " Seq('G'),\n",
              " Seq('YSQS'),\n",
              " Seq('DT'),\n",
              " Seq('V'),\n",
              " Seq('VCSHSTRTDFFSVSLLQWFTIWCLPMCYEAQFHY'),\n",
              " Seq('GFIP'),\n",
              " Seq('WFMW'),\n",
              " Seq('CWF'),\n",
              " Seq('HRL'),\n",
              " Seq('LCLFLLHAPYGITNWSSCWHRLRR'),\n",
              " Seq('LLWTFC'),\n",
              " Seq('QANSTSSWYGHNYYS'),\n",
              " Seq('CFSLVVRCCYKWRQVVSQSIYHNS'),\n",
              " Seq(''),\n",
              " Seq('L'),\n",
              " Seq('PCGYEVQL'),\n",
              " Seq('TSNTRPC'),\n",
              " Seq('HTRTSFCSNWNCRFRYVCFIKRITAKWYEWTYHIG'),\n",
              " Seq('CFIRR'),\n",
              " Seq('IYTF'),\n",
              " Seq('CC'),\n",
              " Seq('TMLRCYFPKCSEKNNQGYTPLVVTHNFDFTFSFSPEYSMVFVLFFV'),\n",
              " Seq('KCLFTFCYGYYCYVCFCNDVCQT'),\n",
              " Seq('ACISLFVFVTFSCHCSLF'),\n",
              " Seq('YGLYAC'),\n",
              " Seq('LGDAYYDMVGYG'),\n",
              " Seq('Y'),\n",
              " Seq('FVWF'),\n",
              " Seq('AKRLCYVCISCSVTNPYDSKNCV'),\n",
              " Seq(''),\n",
              " Seq('WC'),\n",
              " Seq('ESVDTYECLDTRL'),\n",
              " Seq('SLLW'),\n",
              " Seq('CFRSSHFHVGSYNLCYF'),\n",
              " Seq('LLRCSYNCHVFGQRYCFYVC'),\n",
              " Seq('VLPYFLHNW'),\n",
              " Seq('YTSVYNASLLFLRLFLYLLLWPLLFTQPLL'),\n",
              " Seq('TDSWCL'),\n",
              " Seq('LLSFYTGV'),\n",
              " Seq('IYEFTGTTPTQE'),\n",
              " Seq('HRCLQTQH'),\n",
              " Seq('IVGCWWQTLYQSSHCTV'),\n",
              " Seq('NVRCKVHISSLTLSFATTQSRIII'),\n",
              " Seq('IVGSMCPVTQ'),\n",
              " Seq('HSLS'),\n",
              " Seq('RYY'),\n",
              " Seq('SL'),\n",
              " Seq('KNGFTTFCFAFHAGCCRHKQAL'),\n",
              " Seq('RNAGQQGNLTSYSLRV'),\n",
              " Seq('FPSIICSFCYCSRSL'),\n",
              " Seq('AGCC'),\n",
              " Seq('W'),\n",
              " Seq('F'),\n",
              " Seq('SCS'),\n",
              " Seq('KVEEVFECG'),\n",
              " Seq('I'),\n",
              " Seq('I'),\n",
              " Seq('P'),\n",
              " Seq('CSHAT'),\n",
              " Seq('VGKDG'),\n",
              " Seq('SSYDPNV'),\n",
              " Seq('TG'),\n",
              " Seq('I'),\n",
              " Seq('GQEGKSY'),\n",
              " Seq('CYADNAFHYA'),\n",
              " Seq('KVG'),\n",
              " Seq(''),\n",
              " Seq('CTQQHYQQCKRWLCSLEHNTSYNSSQTNGCHTRL'),\n",
              " Seq('HI'),\n",
              " Seq('KYV'),\n",
              " Seq('WYNIYLCISIVGNPTGCRCR'),\n",
              " Seq(''),\n",
              " Seq('NCST'),\n",
              " Seq(''),\n",
              " Seq('N'),\n",
              " Seq('YGQFT'),\n",
              " Seq('FSMASYCNSFKGQFCCQITE'),\n",
              " Seq(''),\n",
              " Seq('A'),\n",
              " Seq('SCCTTTDVLCCRYYTNCLH'),\n",
              " Seq(''),\n",
              " Seq('QCVSLLQHNKGR'),\n",
              " Seq('VCTCTVIRFTGFEMG'),\n",
              " Seq('IP'),\n",
              " Seq('E'),\n",
              " Seq('WNWYYLYRTGTTL'),\n",
              " Seq('VCYRHT'),\n",
              " Seq('RS'),\n",
              " Seq('SEVFILY'),\n",
              " Seq('RIKQPK'),\n",
              " Seq('RYGTW'),\n",
              " Seq('FSCHSTSTSW'),\n",
              " Seq('CNRSACQFNCIIFLCFCCRCC'),\n",
              " Seq('SLQRLSS'),\n",
              " Seq('WGTTNH'),\n",
              " Seq('LC'),\n",
              " Seq('DVVYTHWYWSGNNSYTGSQYGSRILWWCIVLSVLPLPHRSSKS'),\n",
              " Seq('RIL'),\n",
              " Seq('LKR'),\n",
              " Seq('VCTNTYNLC'),\n",
              " Seq(''),\n",
              " Seq('PCGFYT'),\n",
              " Seq('KHSLYRLRYVERLWL'),\n",
              " Seq('L'),\n",
              " Seq('STPRTHASVS'),\n",
              " Seq('CTIVFKRVCGVSAARLTPCGTGTSTDVVYRAFDIYNDKVAGFAKFLKTNCCRFQ...VNN'),\n",
              " Seq('TNNVCFSCFIATSL'),\n",
              " Seq('SVC'),\n",
              " Seq('SYNQNSITPCIH'),\n",
              " Seq('FFHTWCLLP'),\n",
              " Seq('QSFQILSFTFNSGLVLTFLFQCYLVPCYTCLWDQWY'),\n",
              " Seq('EV'),\n",
              " Seq(''),\n",
              " Seq('PCPTI'),\n",
              " Seq(''),\n",
              " Seq('WCLFCFH'),\n",
              " Seq('EV'),\n",
              " Seq('HNKRLDFWYYFRFEDPVPTYC'),\n",
              " Seq(''),\n",
              " Seq('RY'),\n",
              " Seq('CCY'),\n",
              " Seq('SL'),\n",
              " Seq('ISIL'),\n",
              " Seq(''),\n",
              " Seq('SIFGCLLPQKQQKLDGK'),\n",
              " Seq('VQSLF'),\n",
              " Seq('CE'),\n",
              " Seq('LHF'),\n",
              " Seq('ICLSAFSYGP'),\n",
              " Seq('RKTG'),\n",
              " Seq('FQKS'),\n",
              " Seq('GICV'),\n",
              " Seq('EY'),\n",
              " Seq('WLF'),\n",
              " Seq('NIF'),\n",
              " Seq('AHAY'),\n",
              " Seq('FSA'),\n",
              " Seq('SPSGFFGFRTIGRFANRY'),\n",
              " Seq('HH'),\n",
              " Seq('VSNFTCFT'),\n",
              " Seq('KLFDSW'),\n",
              " Seq('FFFRLDSWCCSLLCGLSST'),\n",
              " Seq('DFSIKI'),\n",
              " Seq(''),\n",
              " Seq('KWNHYRCCRLCT'),\n",
              " Seq('PSLRNKVYVEILHCRKRNLSNF'),\n",
              " Seq('L'),\n",
              " Seq('SPTNRIYC'),\n",
              " Seq('IS'),\n",
              " Seq('YYKLVPFW'),\n",
              " Seq('SF'),\n",
              " Seq('RHQICICLCLEQEENQQLCC'),\n",
              " Seq('LFCPI'),\n",
              " Seq('FRIIFHF'),\n",
              " Seq('VLWSVSY'),\n",
              " Seq('IK'),\n",
              " Seq('SLLY'),\n",
              " Seq('CLCRFICN'),\n",
              " Seq('R'),\n",
              " Seq(''),\n",
              " Seq('SQTNRSRANWKDC'),\n",
              " Seq('L'),\n",
              " Seq('L'),\n",
              " Seq('ITR'),\n",
              " Seq('FYRLRYSLEF'),\n",
              " Seq('QS'),\n",
              " Seq('F'),\n",
              " Seq('GWW'),\n",
              " Seq('L'),\n",
              " Seq('LPV'),\n",
              " Seq('IV'),\n",
              " Seq('EV'),\n",
              " Seq('SQTF'),\n",
              " Seq('ERYFN'),\n",
              " Seq('NLSGR'),\n",
              " Seq('HTL'),\n",
              " Seq('WC'),\n",
              " Seq('RF'),\n",
              " Seq('LLLSFTIIWFPTH'),\n",
              " Seq('WCWLPTIQSSSTFF'),\n",
              " Seq('TSTCTSNCLWT'),\n",
              " Seq('KVY'),\n",
              " Seq('FG'),\n",
              " Seq('KQMCQFQLQWFNRHRCSY'),\n",
              " Seq('V'),\n",
              " Seq('QKVSAFPTIWQRHC'),\n",
              " Seq('HY'),\n",
              " Seq('CCP'),\n",
              " Seq('STDT'),\n",
              " Seq('DS'),\n",
              " Seq('HYTMFFWWCQCYNTRNKYF'),\n",
              " Seq('PGCCSLSGC'),\n",
              " Seq('LHRSPCCYSCRSTYSYLACLFYRF'),\n",
              " Seq('CFSNTCRLFNRG'),\n",
              " Seq('TCQQLI'),\n",
              " Seq('V'),\n",
              " Seq('HTHWCRYMR'),\n",
              " Seq('LSDSD'),\n",
              " Seq('FSSAGT'),\n",
              " Seq('CS'),\n",
              " Seq('SIHHCLHYVTWCRKFSCLL'),\n",
              " Seq(''),\n",
              " Seq('LYCHTHKFYY'),\n",
              " Seq('CYHRNSTSVYDQDISRLYNVHLW'),\n",
              " Seq('FN'),\n",
              " Seq('MQQSFVAIWQFLYTIKPCFNWNSC'),\n",
              " Seq('TRQKHPRSFCTSQTNLQNTTN'),\n",
              " Seq('RFWWF'),\n",
              " Seq('FFTNITRSIKTKQEVIY'),\n",
              " Seq('RSTFQQSDTCRCWLHQTIW'),\n",
              " Seq('LPW'),\n",
              " Seq('YCC'),\n",
              " Seq('RPHLCTKV'),\n",
              " Seq('RPYCFATFAHR'),\n",
              " Seq('NDCSIHFCTVSGYNHFWLDLWCRCCITNTICYANGL'),\n",
              " Seq('V'),\n",
              " Seq('WYWSYTECSL'),\n",
              " Seq('EPKIDCQPI'),\n",
              " Seq(''),\n",
              " Seq('CYWQNSRLTFFHSKCTWKTSRCGQPKCTSFKHAC'),\n",
              " Seq('TT'),\n",
              " Seq('LQFWCNFKCFK'),\n",
              " Seq('YPFTS'),\n",
              " Seq('QS'),\n",
              " Seq('G'),\n",
              " Seq('SAN'),\n",
              " Seq(''),\n",
              " Seq('VDHRQTSKFADICDSTIN'),\n",
              " Seq('SCRNQSFC'),\n",
              " Seq('SCCY'),\n",
              " Seq('NVRVCTWTIKKS'),\n",
              " Seq('FLWKGLSSYVLPSVSTSWCSLLACDLCPCTRKELHNCSCHLS'),\n",
              " Seq('WKSTLSS'),\n",
              " Seq('RCLCFKWHTLVCNTKEFL'),\n",
              " Seq('TTNHYYRQHICVW'),\n",
              " Seq('L'),\n",
              " Seq('CCNRNCQQHSL'),\n",
              " Seq('SFAT'),\n",
              " Seq('IRLIQGGVR'),\n",
              " Seq('IF'),\n",
              " Seq('ESYITRC'),\n",
              " Seq('FR'),\n",
              " Seq('HLWH'),\n",
              " Seq('CFSCKHSKRN'),\n",
              " Seq('PPQ'),\n",
              " Seq('GCQEFK'),\n",
              " Seq('ISHRSPRTWKV'),\n",
              " Seq('AVYKMAMVHLARFYSWLDCHSNGDNYALLYDQLL'),\n",
              " Seq('LSQGLLFLWILLQI'),\n",
              " Seq(''),\n",
              " Seq('RRL'),\n",
              " Seq('ASAQRSQITLHINELMDLFMRIFTIGTVTLKQGEIKDATPSDFVRATATIPIQA...VPL'),\n",
              " Seq('AQADEYELMYSFVSEETGTLIVNSVLLFLAFVVFLLVTLAILTALRLCAYCCNI...LLV'),\n",
              " Seq('TN'),\n",
              " Seq('ILY'),\n",
              " Seq('FFCLEL'),\n",
              " Seq('F'),\n",
              " Seq('PWQIPTVLLPLKSLKSSLNNGT'),\n",
              " Seq(''),\n",
              " Seq(''),\n",
              " Seq('VSYSLHGFVFYNLPMPTGIGFCI'),\n",
              " Seq('LS'),\n",
              " Seq('FSSGCYGQ'),\n",
              " Seq('L'),\n",
              " Seq('LVLCLLLFTE'),\n",
              " Seq('IGSPVELLSQWLVL'),\n",
              " Seq('A'),\n",
              " Seq('CGSATSLLLSDCLRVRVPCGHSIQKLTFFSTCHSMALF'),\n",
              " Seq('PDRF'),\n",
              " Seq('KVNS'),\n",
              " Seq('SEL'),\n",
              " Seq('SFVDIFVLLDTI'),\n",
              " Seq('DAVTSRTCLKKSLLLHHERFLITNWELRSV'),\n",
              " Seq('QVTQVLLHTVATGLATIN'),\n",
              " Seq('TQTIPVAVTILLCLYSK'),\n",
              " Seq('QQMFHLVDFQVTIAEILLIIMRTFKVSIWNLDYIINLIIKNLSKSLTENKYSQL...EID'),\n",
              " Seq('TNMKIILFLALITLATCELYHYQECVRGTTVLLKEPCSSGTYEGNSPFHPLADN...KTE'),\n",
              " Seq('LNFH'),\n",
              " Seq('LTSICAF'),\n",
              " Seq('PFCYSLF'),\n",
              " Seq('LCLLSFGSHLNCKIIMKLVTPKRT'),\n",
              " Seq('NFLFS'),\n",
              " Seq('ESSQL'),\n",
              " Seq('LHFTKNVVYSHVLNINHM'),\n",
              " Seq('LMTRVLFTSILNGILE'),\n",
              " Seq('ELENQHL'),\n",
              " Seq('LNCAWMRLVLNHPFSTSISVIIQFPVYLLQLIARNLNWVVL'),\n",
              " Seq('CVVRSMKTF'),\n",
              " Seq('SIMTFVLF'),\n",
              " Seq('ISSKRTN'),\n",
              " Seq('NV'),\n",
              " Seq(''),\n",
              " Seq('WTPKSAKCTPHYVWWTLRFNWQ'),\n",
              " Seq('PEWRTQWGAIKTTSAPRFTQ'),\n",
              " Seq('YCVLVHRSHSTWQGRP'),\n",
              " Seq('IPSRTRRSN'),\n",
              " Seq('HQ'),\n",
              " Seq('QSR'),\n",
              " Seq('PNWLLPKSYQTNSWW'),\n",
              " Seq('R'),\n",
              " Seq('NERSQSKMVFLLPRNWARSWTSLWC'),\n",
              " Seq('QRRHHMGCN'),\n",
              " Seq('GSLEYTKRSHWHPQSC'),\n",
              " Seq('QCCNRATTSSRNNIAKRLLRRREQRRQSSLFSFLIT'),\n",
              " Seq('SQQFKKFNSRQQ'),\n",
              " Seq('GNFSC'),\n",
              " Seq('NGWQWR'),\n",
              " Seq('CCSCFAAA'),\n",
              " Seq('QIEPA'),\n",
              " Seq('EQNVW'),\n",
              " Seq('RPTTTRPNCH'),\n",
              " Seq('EICC'),\n",
              " Seq('GF'),\n",
              " Seq('EASAKTYCH'),\n",
              " Seq('SIQCNTSFRQTWSRTNPRKFWGPGTNQTRN'),\n",
              " Seq('LQTLAANCTICPQRFSVLRNVAHWHGSHTFGNVVDLHRCHQIG'),\n",
              " Seq('QRSKFQRSSHFAE'),\n",
              " Seq('AY'),\n",
              " Seq('RIQNIPTNRA'),\n",
              " Seq('KGQKEEG'),\n",
              " Seq(''),\n",
              " Seq('NSSLTAETEETANCDSSSCCRFG'),\n",
              " Seq('FLQTIATIHEQC'),\n",
              " Seq('LNSGLNSCRPHKADGLYKRFRFSVYDI'),\n",
              " Seq('STLVQNEFS'),\n",
              " Seq('LHSTSRCS'),\n",
              " Seq('L'),\n",
              " Seq('SHIAIFNQCVTLGRT'),\n",
              " Seq('KSHHIFTEATRSTIECTVNNARESCLYGRALMCKINFSSAIPM'),\n",
              " Seq('F'),\n",
              " Seq(''),\n",
              " Seq('LLRRMTKKKKKKKKKK')]"
            ]
          },
          "metadata": {},
          "execution_count": 15
        }
      ]
    },
    {
      "cell_type": "code",
      "source": [
        "print(f'Temos {len(proteins)} sequências de aminoácidos no genoma da Covid-19')"
      ],
      "metadata": {
        "colab": {
          "base_uri": "https://localhost:8080/"
        },
        "id": "pQ1XnMYmyzjT",
        "outputId": "81056dd3-0cdb-468e-817a-653afdcaa266"
      },
      "execution_count": null,
      "outputs": [
        {
          "output_type": "stream",
          "name": "stdout",
          "text": [
            "Temos 775 sequências de aminoácidos no genoma da Covid-19\n"
          ]
        }
      ]
    },
    {
      "cell_type": "markdown",
      "source": [
        "Vale a pena mencionar que nem todas as sequências de aminoácidos são proteínas. Apenas as sequências com mais de 20 aminoácidos codificam proteínas funcionais. As sequências curtas de aminoácidos são oligopeptídeos e têm outras funcionalidades. Aqui, vamos nos concentrar nas cadeias com mais de 20 aminoácidos: Proteínas."
      ],
      "metadata": {
        "id": "E195DNCIzADS"
      }
    },
    {
      "cell_type": "code",
      "source": [
        "# Remove\n",
        "proteins20 = []\n",
        "for protein in proteins:\n",
        "  if len(protein) >= 20:\n",
        "    proteins20.append(protein)"
      ],
      "metadata": {
        "id": "PBcMXvgMzJyt"
      },
      "execution_count": null,
      "outputs": []
    },
    {
      "cell_type": "code",
      "source": [
        "print(f'Temos {len(proteins20)} proteínas com mais de 20 aminoácidos no genoma da Covid-19')"
      ],
      "metadata": {
        "colab": {
          "base_uri": "https://localhost:8080/"
        },
        "id": "0AnzqdoZzNx0",
        "outputId": "92a4f439-5211-46f8-9bb7-a0dc0d6d55d0"
      },
      "execution_count": null,
      "outputs": [
        {
          "output_type": "stream",
          "name": "stdout",
          "text": [
            "Temos 80 proteínas com mais de 20 aminoácidos no genoma da Covid-19\n"
          ]
        }
      ]
    },
    {
      "cell_type": "code",
      "source": [
        "proteins20"
      ],
      "metadata": {
        "colab": {
          "base_uri": "https://localhost:8080/"
        },
        "id": "fVZaqsfs0JBV",
        "outputId": "5cebe814-656a-4692-de1f-ac7a2c82684b"
      },
      "execution_count": null,
      "outputs": [
        {
          "output_type": "execute_result",
          "data": {
            "text/plain": [
              "[Seq('QDTSNSSIFCRLLTVSSVLQPIISTSRFRPGVTER'),\n",
              " Seq('DGEPCPWFQRENTRPTQFACFTGSRRARTWLWRLRGGGLIRGTSTS'),\n",
              " Seq('TALCVHQTFGCSNCTSWSCYG'),\n",
              " Seq('DTWCPCPSCGRNTSGLPQGSSS'),\n",
              " Seq('HLQWGMSKFCISLKFHNQDYSTKG'),\n",
              " Seq('RDRHYFGIFFCFHKCFCGNCERFGL'),\n",
              " Seq('TEINTESSLCICIRGCSCCTINFLPHS'),\n",
              " Seq('NCSKFCACFTEGRYNNTRWNFTVFTETH'),\n",
              " Seq('QSSCNGLHYRWCCSVDFAVAN'),\n",
              " Seq('IQRRNWPTHASKSPKRNYLLRGRNTSHRSVNRGSCLENW'),\n",
              " Seq('YDGNKQYLHTQRRCTNKGYFW'),\n",
              " Seq('PYTFFKSLCRYCSHKCLLSCL'),\n",
              " Seq('NASESFEKSANRQLYNHLPGSGFKWLHCRGGKDSA'),\n",
              " Seq('EARNSWNCFLEFARNACTCRRNTQINACLCGN'),\n",
              " Seq('NSCYNATWLCNTWLKFGRSCSVYEISQSASYSFCFFT'),\n",
              " Seq('PPHASCGHVNDIWTTVWSNLFGWS'),\n",
              " Seq('RNNELLVSTCQFRFLQKSLERGV'),\n",
              " Seq('TSYKISSTTGVTFCYDVSTTCSV'),\n",
              " Seq('RNFVLHRRCFTYKVLRIQRSYYGCFLQRKQLHNNHKTSYL'),\n",
              " Seq('FKNYRRGWPHRSNGCLCRQF'),\n",
              " Seq('TDKYYNLVFTIKCLPRFFNLLNRCFRCFNV'),\n",
              " Seq('WFRFFRHLSFFRNYTNYHFIF'),\n",
              " Seq('MGFNCFWLSCRVVFGIYSFH'),\n",
              " Seq('VFLCTWIGCNHAIVFQLFCSTFY'),\n",
              " Seq('NVHLLCIILLCMEKLCACCRRL'),\n",
              " Seq('RIICKISVCLLQSAYVSTYTVTRSGISV'),\n",
              " Seq('TCKECVLRQCLIYFYFSSSARVC'),\n",
              " Seq('SYTCVPFCCCYFLFNNTCSCHV'),\n",
              " Seq('QSLPIDCCSHNKRSGFCRAWFAWHDITHN'),\n",
              " Seq('YVYTTNSTYWCFGHISIYSSWWYCSYRSNMPCLLFYEV'),\n",
              " Seq('YFTIPYVIHCTLFNTSLLILTWCLFCYLLVLDILSY'),\n",
              " Seq('CFFFSTYSVDGYVHTFSTFLDNNCLYHLYFHKAFLLVL'),\n",
              " Seq('VCSHSTRTDFFSVSLLQWFTIWCLPMCYEAQFHY'),\n",
              " Seq('LCLFLLHAPYGITNWSSCWHRLRR'),\n",
              " Seq('CFSLVVRCCYKWRQVVSQSIYHNS'),\n",
              " Seq('HTRTSFCSNWNCRFRYVCFIKRITAKWYEWTYHIG'),\n",
              " Seq('TMLRCYFPKCSEKNNQGYTPLVVTHNFDFTFSFSPEYSMVFVLFFV'),\n",
              " Seq('KCLFTFCYGYYCYVCFCNDVCQT'),\n",
              " Seq('AKRLCYVCISCSVTNPYDSKNCV'),\n",
              " Seq('LLRCSYNCHVFGQRYCFYVC'),\n",
              " Seq('YTSVYNASLLFLRLFLYLLLWPLLFTQPLL'),\n",
              " Seq('NVRCKVHISSLTLSFATTQSRIII'),\n",
              " Seq('KNGFTTFCFAFHAGCCRHKQAL'),\n",
              " Seq('CTQQHYQQCKRWLCSLEHNTSYNSSQTNGCHTRL'),\n",
              " Seq('WYNIYLCISIVGNPTGCRCR'),\n",
              " Seq('FSMASYCNSFKGQFCCQITE'),\n",
              " Seq('CNRSACQFNCIIFLCFCCRCC'),\n",
              " Seq('DVVYTHWYWSGNNSYTGSQYGSRILWWCIVLSVLPLPHRSSKS'),\n",
              " Seq('CTIVFKRVCGVSAARLTPCGTGTSTDVVYRAFDIYNDKVAGFAKFLKTNCCRFQ...VNN'),\n",
              " Seq('QSFQILSFTFNSGLVLTFLFQCYLVPCYTCLWDQWY'),\n",
              " Seq('HNKRLDFWYYFRFEDPVPTYC'),\n",
              " Seq('PSLRNKVYVEILHCRKRNLSNF'),\n",
              " Seq('RHQICICLCLEQEENQQLCC'),\n",
              " Seq('LHRSPCCYSCRSTYSYLACLFYRF'),\n",
              " Seq('CYHRNSTSVYDQDISRLYNVHLW'),\n",
              " Seq('MQQSFVAIWQFLYTIKPCFNWNSC'),\n",
              " Seq('TRQKHPRSFCTSQTNLQNTTN'),\n",
              " Seq('NDCSIHFCTVSGYNHFWLDLWCRCCITNTICYANGL'),\n",
              " Seq('CYWQNSRLTFFHSKCTWKTSRCGQPKCTSFKHAC'),\n",
              " Seq('FLWKGLSSYVLPSVSTSWCSLLACDLCPCTRKELHNCSCHLS'),\n",
              " Seq('AVYKMAMVHLARFYSWLDCHSNGDNYALLYDQLL'),\n",
              " Seq('ASAQRSQITLHINELMDLFMRIFTIGTVTLKQGEIKDATPSDFVRATATIPIQA...VPL'),\n",
              " Seq('AQADEYELMYSFVSEETGTLIVNSVLLFLAFVVFLLVTLAILTALRLCAYCCNI...LLV'),\n",
              " Seq('PWQIPTVLLPLKSLKSSLNNGT'),\n",
              " Seq('VSYSLHGFVFYNLPMPTGIGFCI'),\n",
              " Seq('CGSATSLLLSDCLRVRVPCGHSIQKLTFFSTCHSMALF'),\n",
              " Seq('DAVTSRTCLKKSLLLHHERFLITNWELRSV'),\n",
              " Seq('QQMFHLVDFQVTIAEILLIIMRTFKVSIWNLDYIINLIIKNLSKSLTENKYSQL...EID'),\n",
              " Seq('TNMKIILFLALITLATCELYHYQECVRGTTVLLKEPCSSGTYEGNSPFHPLADN...KTE'),\n",
              " Seq('LCLLSFGSHLNCKIIMKLVTPKRT'),\n",
              " Seq('LNCAWMRLVLNHPFSTSISVIIQFPVYLLQLIARNLNWVVL'),\n",
              " Seq('WTPKSAKCTPHYVWWTLRFNWQ'),\n",
              " Seq('PEWRTQWGAIKTTSAPRFTQ'),\n",
              " Seq('NERSQSKMVFLLPRNWARSWTSLWC'),\n",
              " Seq('QCCNRATTSSRNNIAKRLLRRREQRRQSSLFSFLIT'),\n",
              " Seq('SIQCNTSFRQTWSRTNPRKFWGPGTNQTRN'),\n",
              " Seq('LQTLAANCTICPQRFSVLRNVAHWHGSHTFGNVVDLHRCHQIG'),\n",
              " Seq('NSSLTAETEETANCDSSSCCRFG'),\n",
              " Seq('LNSGLNSCRPHKADGLYKRFRFSVYDI'),\n",
              " Seq('KSHHIFTEATRSTIECTVNNARESCLYGRALMCKINFSSAIPM')]"
            ]
          },
          "metadata": {},
          "execution_count": 19
        }
      ]
    },
    {
      "cell_type": "code",
      "source": [
        "# Pega as 5 maiores\n",
        "top_5_proteins = sorted(proteins20, key = len)\n",
        "top_5_proteins[-5:]"
      ],
      "metadata": {
        "colab": {
          "base_uri": "https://localhost:8080/"
        },
        "id": "ymU6JcIMzaVk",
        "outputId": "403ae45f-f00a-4240-9176-7de9f4bde10a"
      },
      "execution_count": null,
      "outputs": [
        {
          "output_type": "execute_result",
          "data": {
            "text/plain": [
              "[Seq('QQMFHLVDFQVTIAEILLIIMRTFKVSIWNLDYIINLIIKNLSKSLTENKYSQL...EID'),\n",
              " Seq('AQADEYELMYSFVSEETGTLIVNSVLLFLAFVVFLLVTLAILTALRLCAYCCNI...LLV'),\n",
              " Seq('TNMKIILFLALITLATCELYHYQECVRGTTVLLKEPCSSGTYEGNSPFHPLADN...KTE'),\n",
              " Seq('ASAQRSQITLHINELMDLFMRIFTIGTVTLKQGEIKDATPSDFVRATATIPIQA...VPL'),\n",
              " Seq('CTIVFKRVCGVSAARLTPCGTGTSTDVVYRAFDIYNDKVAGFAKFLKTNCCRFQ...VNN')]"
            ]
          },
          "metadata": {},
          "execution_count": 20
        }
      ]
    },
    {
      "cell_type": "code",
      "source": [
        "# Salva essas proteínas para análises futuras\n",
        "i = 0\n",
        "with open(\"protein_seq.fasta\", \"w\") as file:\n",
        "    for protein in top_5_proteins[-5:]:\n",
        "        i += 1\n",
        "        file.write(f\">covid_protein_{i}\\n{protein}\\n\")"
      ],
      "metadata": {
        "id": "LOIHoj4z2MgH"
      },
      "execution_count": null,
      "outputs": []
    }
  ]
}