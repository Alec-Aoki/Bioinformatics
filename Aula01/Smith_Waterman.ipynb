{
  "nbformat": 4,
  "nbformat_minor": 0,
  "metadata": {
    "colab": {
      "provenance": []
    },
    "kernelspec": {
      "name": "python3",
      "display_name": "Python 3"
    },
    "language_info": {
      "name": "python"
    }
  },
  "cells": [
    {
      "cell_type": "markdown",
      "source": [
        "## Implementação do Algoritmo Smith-Waterman\n",
        "Fonte: https://github.com/slavianap/Smith-Waterman-Algorithm/blob/master/Script.py"
      ],
      "metadata": {
        "id": "V_uInDqrEClp"
      }
    },
    {
      "cell_type": "code",
      "execution_count": null,
      "metadata": {
        "id": "i94RX_V3EBYT"
      },
      "outputs": [],
      "source": [
        "# Importa bibliotecas\n",
        "import numpy as np"
      ]
    },
    {
      "cell_type": "markdown",
      "source": [
        "### Pontuações de match, mismatch e gaps"
      ],
      "metadata": {
        "id": "DfaLJzXoI0CW"
      }
    },
    {
      "cell_type": "code",
      "source": [
        "# Pontuações\n",
        "MATCH = +2\n",
        "MISMATCH = -1\n",
        "GAP = -2"
      ],
      "metadata": {
        "id": "5G2_QDqXI7ql"
      },
      "execution_count": null,
      "outputs": []
    },
    {
      "cell_type": "markdown",
      "source": [
        "### Valores constantes para mapear o traceback"
      ],
      "metadata": {
        "id": "zPnzIge7JOjw"
      }
    },
    {
      "cell_type": "code",
      "source": [
        "PARE = 0\n",
        "ESQUERDA = 1\n",
        "CIMA = 2\n",
        "DIAGONAL = 3"
      ],
      "metadata": {
        "id": "O0LQhMmpJTEp"
      },
      "execution_count": null,
      "outputs": []
    },
    {
      "cell_type": "markdown",
      "source": [
        "## Lê um arquivo fasta com as sequências"
      ],
      "metadata": {
        "id": "HH-atfn-Jaca"
      }
    },
    {
      "cell_type": "code",
      "source": [
        "def leitor_fasta(arquivo_fasta):\n",
        "    linhas = open(arquivo_fasta).readlines()\n",
        "    nome_sequencia = linhas[0][1:]\n",
        "    sequencia = linhas[1]\n",
        "    return nome_sequencia.replace(\" \", \"\").strip(), sequencia.strip()\n",
        "\n",
        "seq1 = leitor_fasta(\"fasta3.fasta\")\n",
        "print(seq1[0])\n",
        "print(seq1[1])\n",
        "\n",
        "seq2 = leitor_fasta(\"fasta4.fasta\")\n",
        "print(seq2[0])\n",
        "print(seq2[1])"
      ],
      "metadata": {
        "colab": {
          "base_uri": "https://localhost:8080/"
        },
        "id": "N2N1pCoqJfjL",
        "outputId": "f491325b-6003-473f-fd19-405d24818cd5"
      },
      "execution_count": null,
      "outputs": [
        {
          "output_type": "stream",
          "name": "stdout",
          "text": [
            "Seq1[organism=Carpodacusmexicanus][clone=6b]actin(act)mRNA,partialcds\n",
            "CCTTTATCTAATCTTTGGAGCATGAGCTGGCATAGTTGGAACCGCCCTCAGCCTCCTCATCCGTGCAGAATAATAATTTTCTTTATAGTAATACCAATCATGATCGGTGGTTTCGGAAACTGACTAGTCCCACTCATAAT\n",
            "Seq2[organism=unculturedbacillussp.][isolate=A2]corticotropin(CT)gene,completecds\n",
            "GGTAGGTACCGCCCTAAGNCTCCTAATCCGAGCAGAACTANGCCAACCCGGAGCCCTTCTGGGAGACGACTCAACACCACCTTCTTTGACCCAGCAGGAGGAGGAGACCCAGTACTATACCAGCACCTATTCTGATTCTT\n"
          ]
        }
      ]
    },
    {
      "cell_type": "markdown",
      "source": [
        "### Cria matrizes para armazenar as pontuações e o traceback"
      ],
      "metadata": {
        "id": "QJZrqxoBL3ZT"
      }
    },
    {
      "cell_type": "code",
      "source": [
        "matriz_principal = np.zeros(shape=(len(seq1[1])+1,len(seq2[1])+1))\n",
        "matriz_traceback = np.zeros(shape=(len(seq1[1])+1,len(seq2[1])+1))\n",
        "print(matriz_principal)"
      ],
      "metadata": {
        "colab": {
          "base_uri": "https://localhost:8080/"
        },
        "id": "A-HRWkfJL-aU",
        "outputId": "63d8e8eb-40ea-440b-e67e-ba1417ed482e"
      },
      "execution_count": null,
      "outputs": [
        {
          "output_type": "stream",
          "name": "stdout",
          "text": [
            "[[0. 0. 0. ... 0. 0. 0.]\n",
            " [0. 0. 0. ... 0. 0. 0.]\n",
            " [0. 0. 0. ... 0. 0. 0.]\n",
            " ...\n",
            " [0. 0. 0. ... 0. 0. 0.]\n",
            " [0. 0. 0. ... 0. 0. 0.]\n",
            " [0. 0. 0. ... 0. 0. 0.]]\n"
          ]
        }
      ]
    },
    {
      "cell_type": "markdown",
      "source": [
        "### Variáveis para encontrar a célula com maior pontuação\n",
        "É dessa célula que inicia o traceback"
      ],
      "metadata": {
        "id": "CUaFGxdcU7rM"
      }
    },
    {
      "cell_type": "code",
      "source": [
        "pontuacao_maxima = -1\n",
        "indice_maximo = (-1, -1)"
      ],
      "metadata": {
        "id": "Ky2qHdrsVElR"
      },
      "execution_count": null,
      "outputs": []
    },
    {
      "cell_type": "markdown",
      "source": [
        "### Preenche a matriz principal com as pontuações\n",
        "Já marcando a célula anterior que deu origem ao valor de uma célula"
      ],
      "metadata": {
        "id": "yAzjT61uVNyK"
      }
    },
    {
      "cell_type": "code",
      "source": [
        "# Percorre toda a matriz\n",
        "for i in range(1,len(seq1[1])+1):\n",
        "  for j in range(1,len(seq2[1])+1):\n",
        "\n",
        "    # Pontuação da diagonal (match/mismatch)\n",
        "    if(seq1[1][i-1] == seq2[1][j-1]):\n",
        "      pontuacao_diagonal = matriz_principal[i - 1,j - 1] + MATCH\n",
        "    else:\n",
        "      pontuacao_diagonal = matriz_principal[i - 1, j - 1] + MISMATCH\n",
        "\n",
        "    # Pontuação da vertical (gap)\n",
        "    pontuacao_vertical = matriz_principal[i-1,j] + GAP\n",
        "\n",
        "    # Pontuação da horizontal (gap)\n",
        "    pontuacao_horizontal = matriz_principal[i,j-1] + GAP\n",
        "\n",
        "    # Preenche a matriz com o maior valor (substituimos os negativos por 0)\n",
        "    matriz_principal[i,j] = max(0,pontuacao_diagonal,pontuacao_vertical,pontuacao_horizontal)\n",
        "\n",
        "    # Já armazena a célula anterior que deu origem ao valor da célula atual (trace)\n",
        "    if matriz_principal[i,j] == 0: # Não aponta pra nenhuma célula\n",
        "      matriz_traceback[i,j] = PARE\n",
        "\n",
        "    if matriz_principal[i,j] == pontuacao_horizontal: # Aponta para a célula da esquerda\n",
        "      matriz_traceback[i,j] = ESQUERDA\n",
        "\n",
        "    if matriz_principal[i,j] == pontuacao_vertical: # Aponta para a célula de cima\n",
        "      matriz_traceback[i,j] = CIMA\n",
        "\n",
        "    if matriz_principal[i,j] == pontuacao_diagonal: # Aponta para a célula da diagonal\n",
        "      matriz_traceback[i,j] = DIAGONAL\n",
        "\n",
        "    # Já verifica a célula com a máxima pontuação na matriz\n",
        "    if matriz_principal[i,j] >= pontuacao_maxima:\n",
        "      indice_maximo = (i,j)\n",
        "      pontuacao_maxima = matriz_principal[i,j]\n",
        "\n",
        "print(matriz_principal)\n",
        "print(matriz_traceback)"
      ],
      "metadata": {
        "colab": {
          "base_uri": "https://localhost:8080/"
        },
        "id": "yPzRAf_wVfgo",
        "outputId": "d012019c-6504-4775-b562-903e9bf14792"
      },
      "execution_count": null,
      "outputs": [
        {
          "output_type": "stream",
          "name": "stdout",
          "text": [
            "[[ 0.  0.  0. ...  0.  0.  0.]\n",
            " [ 0.  0.  0. ...  2.  0.  0.]\n",
            " [ 0.  0.  0. ...  2.  1.  0.]\n",
            " ...\n",
            " [ 0.  0.  0. ... 58. 56. 54.]\n",
            " [ 0.  0.  0. ... 59. 57. 55.]\n",
            " [ 0.  0.  0. ... 60. 61. 59.]]\n",
            "[[0. 0. 0. ... 0. 0. 0.]\n",
            " [0. 0. 0. ... 3. 1. 0.]\n",
            " [0. 0. 0. ... 3. 3. 0.]\n",
            " ...\n",
            " [0. 0. 0. ... 3. 3. 3.]\n",
            " [0. 0. 0. ... 3. 3. 3.]\n",
            " [0. 0. 0. ... 1. 3. 3.]]\n"
          ]
        }
      ]
    },
    {
      "cell_type": "markdown",
      "source": [
        "### Inicia o traceback"
      ],
      "metadata": {
        "id": "GSVIuP-AekIb"
      }
    },
    {
      "cell_type": "code",
      "source": [
        "# Inicialização de variáveis\n",
        "seq1_alinhada = \"\"\n",
        "seq2_alinhada = \"\"\n",
        "alinhamento_atual_seq1 = \"\"\n",
        "alinhamento_atual_seq2 = \"\"\n",
        "(max_i, max_j) = indice_maximo\n",
        "\n",
        "# Faz o traceback e monta o melhor alinhamento local\n",
        "while matriz_traceback[max_i,max_j] != PARE:\n",
        "\n",
        "  if matriz_traceback[max_i,max_j] == DIAGONAL: # Está apontando para diagonal\n",
        "    alinhamento_atual_seq1 = seq1[1][max_i-1]\n",
        "    alinhamento_atual_seq2 = seq2[1][max_j-1]\n",
        "    max_i = max_i - 1\n",
        "    max_j = max_j - 1\n",
        "\n",
        "  elif matriz_traceback[max_i,max_j] == CIMA: # Está apontando para cima\n",
        "    alinhamento_atual_seq1 = seq1[1][max_i-1]\n",
        "    alinhamento_atual_seq2 = '-'\n",
        "    max_i = max_i - 1\n",
        "\n",
        "  elif matriz_traceback[max_i,max_j] == ESQUERDA: # Está apontando para a esquerda\n",
        "    alinhamento_atual_seq1 = '-'\n",
        "    alinhamento_atual_seq2 = seq2[1][max_j-1]\n",
        "    max_j = max_j - 1\n",
        "\n",
        "  # Vai montando o alinhamento\n",
        "  seq1_alinhada = alinhamento_atual_seq1 + seq1_alinhada\n",
        "  seq2_alinhada = alinhamento_atual_seq2 + seq2_alinhada"
      ],
      "metadata": {
        "id": "MHZDIP51em6b"
      },
      "execution_count": null,
      "outputs": []
    },
    {
      "cell_type": "markdown",
      "source": [
        "### Mostra o alinhamento local"
      ],
      "metadata": {
        "id": "FghgRh4ih3bY"
      }
    },
    {
      "cell_type": "code",
      "source": [
        "print(seq1_alinhada)\n",
        "print(seq2_alinhada)"
      ],
      "metadata": {
        "colab": {
          "base_uri": "https://localhost:8080/"
        },
        "id": "enaOtJNjh5m6",
        "outputId": "e485a26b-68c9-4a2c-bb11-bef8faf1948e"
      },
      "execution_count": null,
      "outputs": [
        {
          "output_type": "stream",
          "name": "stdout",
          "text": [
            "GTTGGAACCGCCCTCAGCCTCCTCATCCGTGCAGAA-T-----AA----TA-ATTTTCT-TTATA-G--T-AATACCA--ATC-ATGA-TC-GGTGGTTTCGGA-A-ACTG-ACTAGTCCCA-CTCATAAT\n",
            "GTAGGTACCGCCCTAAGNCTCCTAATCCGAGCAGAACTANGCCAACCCGGAGCCCTTCTGGGAGACGACTCAACACCACCTTCTTTGACCCAGCAGGAGGAGGAGACCCAGTACTA-TACCAGCACCTATT\n"
          ]
        }
      ]
    }
  ]
}